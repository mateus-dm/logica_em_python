{
  "nbformat": 4,
  "nbformat_minor": 0,
  "metadata": {
    "colab": {
      "name": "Lógica de Programação com Python.ipynb",
      "provenance": [],
      "collapsed_sections": []
    },
    "kernelspec": {
      "name": "python3",
      "display_name": "Python 3"
    },
    "language_info": {
      "name": "python"
    }
  },
  "cells": [
    {
      "cell_type": "markdown",
      "source": [
        "#Aula 1 - Primeiros Passos"
      ],
      "metadata": {
        "id": "iMvFO8RkQ7a1"
      }
    },
    {
      "cell_type": "code",
      "source": [
        "# Soma\n",
        "5+3\n",
        "\n",
        "''' Tudo que vai aqui dentro é lido como comentário '''\n",
        "\n",
        "# shift + enter para compilar o código\n",
        "\n",
        "print(\"Frase do curso\")\n",
        "\n",
        "#impput - coleta dados do usuário\n",
        "\n",
        "imput()\n",
        "\n",
        "#palavras reservadas \n",
        "#exemplos:\n",
        "if or else "
      ],
      "metadata": {
        "colab": {
          "base_uri": "https://localhost:8080/"
        },
        "id": "RLYwmPXFRAex",
        "outputId": "a063341a-b9eb-4edf-dfaf-06dfd689a337"
      },
      "execution_count": null,
      "outputs": [
        {
          "output_type": "stream",
          "name": "stdout",
          "text": [
            "Frase do curso\n"
          ]
        }
      ]
    },
    {
      "cell_type": "markdown",
      "source": [
        "#Aula 2 - Variáveis"
      ],
      "metadata": {
        "id": "XdDB5VGASIs8"
      }
    },
    {
      "cell_type": "code",
      "source": [
        "# nome das variáveis - Sempre comece com letras! \n",
        "\n",
        "p1 = 8\n",
        "prova = 6\n",
        "prova_1 = 7\n",
        "\n",
        "X = 3 \n",
        "# igual + igual \"==\" significa comparação. X é igual a 3? \n",
        "x == 3\n",
        "\n",
        "\n"
      ],
      "metadata": {
        "id": "leGKXffESMSu"
      },
      "execution_count": null,
      "outputs": []
    },
    {
      "cell_type": "markdown",
      "source": [
        "#Aula 3 - Tipos de variáveis"
      ],
      "metadata": {
        "id": "g3xyYzFvTSQQ"
      }
    },
    {
      "cell_type": "code",
      "source": [
        "# nota: quando declarar uma variável assim \"x = x + 1\" significa que a partir de agora, o X anterior é somado com 1\n",
        "\n",
        "# Númericas: inteiros e flutuantes (int ou float)\n",
        "\n",
        "idade = 46\n",
        "salario = 2200.20\n",
        "\n",
        "# Booleanas (Boolean) Verdadeiro ou falso \n",
        "\n",
        "v = True\n",
        "f = False\n",
        "\n",
        "# string (caracteres ou letras)\n",
        "\n",
        "nome = \"Mateus\"\n",
        "idade = 26\n",
        "idade_01 = \"26\"\n",
        "\n",
        "type(v)\n"
      ],
      "metadata": {
        "colab": {
          "base_uri": "https://localhost:8080/"
        },
        "id": "ilIQRBAyTVq3",
        "outputId": "61bf9375-db4a-49f6-be37-7f91cd17336a"
      },
      "execution_count": null,
      "outputs": [
        {
          "output_type": "execute_result",
          "data": {
            "text/plain": [
              "bool"
            ]
          },
          "metadata": {},
          "execution_count": 13
        }
      ]
    },
    {
      "cell_type": "markdown",
      "source": [
        "#Aula 5 - Função Type() e conversão de variáveis"
      ],
      "metadata": {
        "id": "b1HGraR0UmyO"
      }
    },
    {
      "cell_type": "code",
      "source": [
        "type(v)\n",
        "\n",
        "p1 = 7\n",
        "p2 = 7.5\n",
        "\n",
        "p1 = float(p1)\n",
        "\n",
        "p1\n",
        "\n",
        "type(p1)"
      ],
      "metadata": {
        "colab": {
          "base_uri": "https://localhost:8080/"
        },
        "id": "ReERnQM_Uy2R",
        "outputId": "4bde1bc3-9c83-493c-f287-5ca1e5aa1431"
      },
      "execution_count": null,
      "outputs": [
        {
          "output_type": "execute_result",
          "data": {
            "text/plain": [
              "float"
            ]
          },
          "metadata": {},
          "execution_count": 14
        }
      ]
    },
    {
      "cell_type": "markdown",
      "source": [
        "#Aula 6 - Função print()"
      ],
      "metadata": {
        "id": "UwBBFU-7WIP4"
      }
    },
    {
      "cell_type": "code",
      "source": [
        "idade = 26\n",
        "x = 3\n",
        "y = 7\n",
        "nome = \"Mateus\"\n",
        "\n",
        "print(\"Print isso\")\n",
        "print() #pula linha\n",
        "\n",
        "print(x+y)\n",
        "\n",
        "\n",
        "# função com porcentagem %s = string %d número inteiro %f número float\n",
        "\n",
        "print(\"%s tem %d anos e recebe %2f\" % (nome, idade, salario))"
      ],
      "metadata": {
        "colab": {
          "base_uri": "https://localhost:8080/"
        },
        "id": "JMWbeSn0WL_f",
        "outputId": "68182fbe-5457-4736-c088-fff32f4158b1"
      },
      "execution_count": null,
      "outputs": [
        {
          "output_type": "stream",
          "name": "stdout",
          "text": [
            "Print isso\n",
            "\n",
            "10\n",
            "Mateus tem 26 anos e recebe 2200.200000\n"
          ]
        }
      ]
    },
    {
      "cell_type": "markdown",
      "source": [
        "#Aula 7 - Função print() com format"
      ],
      "metadata": {
        "id": "lN40y4Y4acE_"
      }
    },
    {
      "cell_type": "code",
      "source": [
        "print(\"{} tem {} anos e recebe R${}\" .format(nome, idade, salario))"
      ],
      "metadata": {
        "colab": {
          "base_uri": "https://localhost:8080/"
        },
        "id": "Rp_3mzIkaiTh",
        "outputId": "5bab7d10-95b5-4253-a726-75afcce388ba"
      },
      "execution_count": null,
      "outputs": [
        {
          "output_type": "stream",
          "name": "stdout",
          "text": [
            "Mateus tem 26 anos e recebe R$2200.2\n"
          ]
        }
      ]
    },
    {
      "cell_type": "markdown",
      "source": [
        "#Aula 8 - Entrata de dados: função input()"
      ],
      "metadata": {
        "id": "MUmbMpJ5bmUi"
      }
    },
    {
      "cell_type": "markdown",
      "source": [],
      "metadata": {
        "id": "yjIBIsNkHYaa"
      }
    },
    {
      "cell_type": "code",
      "source": [
        "x = float(input(\"Insira a sua idade: \"));\n",
        "y = float(input(\"digite seu cpf: \"));\n",
        "\n",
        "print(x+y)\n",
        "\n",
        "nome = input(\"Insira seu nome: \")\n",
        "print(\"Ola\", nome)\n",
        "\n"
      ],
      "metadata": {
        "colab": {
          "base_uri": "https://localhost:8080/"
        },
        "id": "udf8lcA9ajoC",
        "outputId": "b3075a01-cd31-4496-da2d-35c865a7aca0"
      },
      "execution_count": null,
      "outputs": [
        {
          "output_type": "stream",
          "name": "stdout",
          "text": [
            "Insira a sua idade: 1\n",
            "digite seu cpf: 3\n",
            "4.0\n",
            "Insira seu nome: MATEUS\n",
            "Ola MATEUS\n"
          ]
        }
      ]
    },
    {
      "cell_type": "markdown",
      "source": [
        "#Exercicio 1 "
      ],
      "metadata": {
        "id": "bwrbT9CIfEqB"
      }
    },
    {
      "cell_type": "code",
      "source": [
        "real = 5.16\n",
        "\n",
        "dolar = float(input(\"Digite o valor em dólares: \"));\n",
        "\n",
        "conv = dolar*real\n",
        "\n",
        "print(\"U$ {} dólares em reais é igual a R${}\" .format(dolar,conv))"
      ],
      "metadata": {
        "colab": {
          "base_uri": "https://localhost:8080/"
        },
        "id": "Nj96eh6IfG0K",
        "outputId": "b68d3fd9-9f74-4ed8-ee95-60776156c2a1"
      },
      "execution_count": null,
      "outputs": [
        {
          "output_type": "stream",
          "name": "stdout",
          "text": [
            "Digite o valor em dólares: 3\n",
            "U$ 3.0 dólares em reais é igual a R$15.48\n"
          ]
        }
      ]
    },
    {
      "cell_type": "markdown",
      "source": [
        "#Exercicio 2"
      ],
      "metadata": {
        "id": "tODGROVlhx6g"
      }
    },
    {
      "cell_type": "code",
      "source": [
        "preco = float(input(\"Digite o valor do produto: \"))\n",
        "\n",
        "desc = float(input(\"Digite o valor do desconto: \"))\n",
        "\n",
        "cal = desc/100\n",
        "\n",
        "valor = preco*cal\n",
        "\n",
        "pagar = preco-valor\n",
        "\n",
        "print(\"Esse produto vai ter o desconto de R${} e você vai precisar pagar R${:.2f}\" .format(valor, pagar))"
      ],
      "metadata": {
        "colab": {
          "base_uri": "https://localhost:8080/"
        },
        "id": "6_ngkaacfG57",
        "outputId": "67de238f-cb95-4d3e-cb48-f5026ac3022a"
      },
      "execution_count": null,
      "outputs": [
        {
          "output_type": "stream",
          "name": "stdout",
          "text": [
            "Digite o valor do produto: 300\n",
            "Digite o valor do desconto: 15\n",
            "Esse produto vai ter o desconto de R$45.0 e você vai precisar pagar R$255.00\n"
          ]
        }
      ]
    },
    {
      "cell_type": "markdown",
      "source": [
        "#Aula 10"
      ],
      "metadata": {
        "id": "ET3QbQGLFM0T"
      }
    },
    {
      "cell_type": "code",
      "source": [
        "x = 3\n",
        "y = 7\n",
        "\n",
        "#adição\n",
        "\n",
        "soma = x + y\n",
        "\n",
        "print(soma)\n",
        "\n",
        "#subtração\n",
        "\n",
        "sub = x - y\n",
        "\n",
        "print(sub)\n",
        "\n",
        "#multiplicação\n",
        "\n",
        "multi = x * y\n",
        "\n",
        "print (multi)\n",
        "\n",
        "#potenciação\n",
        "\n",
        "pot = x**3\n",
        "\n",
        "print(pot)"
      ],
      "metadata": {
        "colab": {
          "base_uri": "https://localhost:8080/"
        },
        "id": "dXopyuawFOzz",
        "outputId": "9215dd31-932a-46f1-bd01-ecfc0acf3bc0"
      },
      "execution_count": null,
      "outputs": [
        {
          "output_type": "stream",
          "name": "stdout",
          "text": [
            "10\n",
            "-4\n",
            "21\n",
            "27\n"
          ]
        }
      ]
    },
    {
      "cell_type": "code",
      "source": [
        "#divisão\n",
        "\n",
        "'''\n",
        "São 3 tippos\n",
        "\n",
        "x / y = divisão usual (com float)\n",
        "\n",
        "x / / y = divisão inteira (com int)\n",
        "\n",
        "x % y = resto da divisão\n",
        "\n",
        "'''"
      ],
      "metadata": {
        "id": "swNvyjeBGmyW"
      },
      "execution_count": null,
      "outputs": []
    },
    {
      "cell_type": "code",
      "source": [
        "10/5"
      ],
      "metadata": {
        "colab": {
          "base_uri": "https://localhost:8080/"
        },
        "id": "RLzXy8kBGqG6",
        "outputId": "f2cf7d90-986d-48ce-add6-862e428d311e"
      },
      "execution_count": null,
      "outputs": [
        {
          "output_type": "execute_result",
          "data": {
            "text/plain": [
              "2.0"
            ]
          },
          "metadata": {},
          "execution_count": 8
        }
      ]
    },
    {
      "cell_type": "code",
      "source": [
        "17//5"
      ],
      "metadata": {
        "colab": {
          "base_uri": "https://localhost:8080/"
        },
        "id": "oIELMZx_GtrP",
        "outputId": "ee312858-cff7-46c9-f4e8-5ba6389b5ad0"
      },
      "execution_count": null,
      "outputs": [
        {
          "output_type": "execute_result",
          "data": {
            "text/plain": [
              "3"
            ]
          },
          "metadata": {},
          "execution_count": 9
        }
      ]
    },
    {
      "cell_type": "code",
      "source": [
        "17%5"
      ],
      "metadata": {
        "colab": {
          "base_uri": "https://localhost:8080/"
        },
        "id": "uDvaAgTrG4WF",
        "outputId": "711f54c1-2536-4901-8c79-3f60d0002707"
      },
      "execution_count": null,
      "outputs": [
        {
          "output_type": "execute_result",
          "data": {
            "text/plain": [
              "2"
            ]
          },
          "metadata": {},
          "execution_count": 10
        }
      ]
    },
    {
      "cell_type": "markdown",
      "source": [
        "#Exercício 3\n",
        "\n",
        "Registro de Aluno = 274128\n",
        "\n",
        "Como fazer a leitura apenas dos últimos algarismos? \n"
      ],
      "metadata": {
        "id": "cszyyk2AHf-0"
      }
    },
    {
      "cell_type": "code",
      "source": [
        "ra = 274128\n",
        "algarismos = ra % 10000\n",
        "print(algarismos)"
      ],
      "metadata": {
        "colab": {
          "base_uri": "https://localhost:8080/"
        },
        "id": "Dk_wsbAvHmjC",
        "outputId": "ce2c30a6-810d-4ae6-b82a-08d058492d96"
      },
      "execution_count": null,
      "outputs": [
        {
          "output_type": "stream",
          "name": "stdout",
          "text": [
            "4128\n"
          ]
        }
      ]
    },
    {
      "cell_type": "markdown",
      "source": [
        "#Exercício 4\n",
        "\n",
        "Dados dois números inteiros, exiba as 4 operações arítiméticas deles:"
      ],
      "metadata": {
        "id": "vfxnNeooIUkT"
      }
    },
    {
      "cell_type": "code",
      "source": [
        "a = 1\n",
        "b = 3\n",
        "\n",
        "ad = a + b\n",
        "sub = b - a\n",
        "sub_2 = a - b\n",
        "div = b / a\n",
        "div_2 = a / b\n",
        "mult = a * b\n",
        "\n",
        "print(\"Subtração 1 = \", sub)\n",
        "print(\"Subtração 2 = \", sub_2)\n",
        "print(\"Divisão 1 = \", div)\n",
        "print(\"Divisão 2 = \", div_2)\n",
        "print(\"Adição\", ad)\n",
        "print(\"Multiplicação\", mult)"
      ],
      "metadata": {
        "colab": {
          "base_uri": "https://localhost:8080/"
        },
        "id": "6KKF9BvGITgi",
        "outputId": "f02dc233-63fb-48af-b743-924ed75ec899"
      },
      "execution_count": null,
      "outputs": [
        {
          "output_type": "stream",
          "name": "stdout",
          "text": [
            "Subtração 1 =  2\n",
            "Subtração 2 =  -2\n",
            "Divisão 1 =  3.0\n",
            "Divisão 2 =  0.3333333333333333\n",
            "Adição 4\n",
            "Multiplicação 3\n"
          ]
        }
      ]
    },
    {
      "cell_type": "markdown",
      "source": [
        "#Exercício 5\n",
        "\n",
        "Elabore um algoritmo que demonstre a médias final do curso, sendo as avaliações com três provas e quadro trabalhos, com peso de 80% para as provas e 20% para os trabalhos."
      ],
      "metadata": {
        "id": "OxcGJXEXJpJy"
      }
    },
    {
      "cell_type": "code",
      "source": [
        "# notas das provas\n",
        "\n",
        "p1 = 8.0\n",
        "p2 = 7.5\n",
        "p3 = 6.8\n",
        "\n",
        "# as quatro notas dos trabalhos\n",
        "\n",
        "trab_1 = 5.5\n",
        "trab_2 = 10.0\n",
        "trab_3 = 9.0\n",
        "trab_4 = 8.7\n",
        "\n",
        "# as médias \n",
        "\n",
        "mp = (p1 + p2 + p3)/3\n",
        "mt = (trab_1 + trab_2 + trab_3 + trab_4)/4\n",
        "\n",
        "# a media final \n",
        "\n",
        "mf = 0.8*mp + 0.2*mt\n",
        "\n",
        "print(\"A média final da displina é: {:.2f}\" .format(mf))"
      ],
      "metadata": {
        "colab": {
          "base_uri": "https://localhost:8080/"
        },
        "id": "jQpdRzRHKOw6",
        "outputId": "0d9a6acd-9569-48b6-c0d7-468a52695f4a"
      },
      "execution_count": null,
      "outputs": [
        {
          "output_type": "stream",
          "name": "stdout",
          "text": [
            "A média final da displina é: 7.61\n"
          ]
        }
      ]
    },
    {
      "cell_type": "markdown",
      "source": [
        "#Exercício 6\n",
        "\n",
        "Faça um algoritmo que calcule um aumento de 5% num salário de R$2.000,00 mensais"
      ],
      "metadata": {
        "id": "ZM5UsbdwL8CW"
      }
    },
    {
      "cell_type": "code",
      "source": [
        "salario = 2000\n",
        "aumento = 5\n",
        "novo_salario = salario*(1 + aumento/100)\n",
        "\n",
        "print(\"O salário de R${:.2f} sofreu um aumento de {}% e passou a valer R${:.2f}\" .format(salario, aumento, novo_salario))"
      ],
      "metadata": {
        "colab": {
          "base_uri": "https://localhost:8080/"
        },
        "id": "lvI29oF0MI2I",
        "outputId": "5ff4204c-65b9-4fe1-fa19-16f3e9354e8f"
      },
      "execution_count": null,
      "outputs": [
        {
          "output_type": "stream",
          "name": "stdout",
          "text": [
            "O salário de R$2000.00 sofreu um aumento de 5% e passou a valer R$2100.00\n",
            "1.05\n"
          ]
        }
      ]
    },
    {
      "cell_type": "markdown",
      "source": [
        "#Exercício 7 \n",
        "Faça uma variável que exiba seu nome e alguns dados pessoais"
      ],
      "metadata": {
        "id": "FzMWCkPOOacc"
      }
    },
    {
      "cell_type": "code",
      "source": [
        "nome = \"Mateus\"\n",
        "idade = 26\n",
        "altura = 1.78\n",
        "\n",
        "print(\"Eu me chamo {}, tenho {} anos e {} de altura.\" .format(nome, idade, altura))"
      ],
      "metadata": {
        "colab": {
          "base_uri": "https://localhost:8080/"
        },
        "id": "0ZhztNb2Msf6",
        "outputId": "0b0b19c3-f6e8-407d-85dc-5b49abcdd4e2"
      },
      "execution_count": null,
      "outputs": [
        {
          "output_type": "stream",
          "name": "stdout",
          "text": [
            "Eu me chamo Mateus, tenho 26 anos e 1.78 de altura.\n"
          ]
        }
      ]
    },
    {
      "cell_type": "markdown",
      "source": [
        "#Exercício 8\n",
        "\n",
        "Faça um programa que exiba o resultado das operações:\n",
        "\n",
        "1.2a + 3b, sendo que a = 2 e b = -5\n",
        "\n",
        "2.a² + b², sendo que a = -1 e b = -3\n",
        "\n",
        "3.a - 3b/a, sendo que a = 3 e b = 6"
      ],
      "metadata": {
        "id": "dv5HZY1BO_SK"
      }
    },
    {
      "cell_type": "code",
      "source": [
        "a = 2\n",
        "b = -5\n",
        "\n",
        "op1 = 2*a + 3*b\n",
        "\n",
        "print(op1)"
      ],
      "metadata": {
        "colab": {
          "base_uri": "https://localhost:8080/"
        },
        "id": "B2tiMIODPB51",
        "outputId": "3a5da673-7fac-437b-eb62-8251601c69cb"
      },
      "execution_count": null,
      "outputs": [
        {
          "output_type": "stream",
          "name": "stdout",
          "text": [
            "-11\n"
          ]
        }
      ]
    },
    {
      "cell_type": "code",
      "source": [
        "a = -1\n",
        "b = 3\n",
        "\n",
        "op2 = a**2 + b**2\n",
        "\n",
        "print(op2)"
      ],
      "metadata": {
        "colab": {
          "base_uri": "https://localhost:8080/"
        },
        "id": "_kWQDWNaPvQl",
        "outputId": "445af732-207a-4f4a-f4cd-14a604eafeb4"
      },
      "execution_count": null,
      "outputs": [
        {
          "output_type": "stream",
          "name": "stdout",
          "text": [
            "10\n"
          ]
        }
      ]
    },
    {
      "cell_type": "code",
      "source": [
        "a = 3\n",
        "b = 6\n",
        "\n",
        "op3 = a - (3*b)/a\n",
        "\n",
        "print(op3)"
      ],
      "metadata": {
        "colab": {
          "base_uri": "https://localhost:8080/"
        },
        "id": "TRDcQ_3VPvAw",
        "outputId": "2d16db8e-6072-4da9-9216-36d2c5de4a43"
      },
      "execution_count": null,
      "outputs": [
        {
          "output_type": "stream",
          "name": "stdout",
          "text": [
            "-3.0\n"
          ]
        }
      ]
    },
    {
      "cell_type": "markdown",
      "source": [
        "#Exercício 8\n",
        "\n",
        "Elabore um algoritmo que aplique o desconto de 5% (desc_a) quando o consumidor compra 2 produtos e o desconto de 10% (desc_b) quando ele compra 3 produtos. \n",
        "\n",
        "  - TV = 890\n",
        "  - Mesa = 500\n",
        "  - Liquidificador = 120\n",
        "  - Desc_a = 5\n",
        "  - Desc_b = 10\n"
      ],
      "metadata": {
        "id": "yzYnx7wrTFqz"
      }
    },
    {
      "cell_type": "code",
      "source": [
        "#produtos\n",
        "\n",
        "tv = 890\n",
        "mesa = 500\n",
        "liq = 120\n",
        "desc_a = 5\n",
        "desc_b = 10\n",
        "\n",
        "da = (1 - desc_a/100)\n",
        "db = (1 - desc_b/100)\n",
        "# dois produtos\n",
        "\n",
        "compra_01 = (tv + mesa) * da\n",
        "compra_02 = (liq + tv) * da\n",
        "compra_03 = (liq + mesa) * da\n",
        "\n",
        "# Três produtos\n",
        "\n",
        "compra_04 = (liq + tv + mesa)\n",
        "\n",
        "#descontos\n",
        "\n",
        "print(\"Comprando TV + Mesa = R$\", compra_01)\n",
        "print(\"Comprando TV + Liquidificador = R$\", compra_02)\n",
        "print(\"Comprando Liquidificador + Mesa = R$\", compra_03)\n",
        "print()\n",
        "print(\"Comprando os três produtos = R$\", compra_04)"
      ],
      "metadata": {
        "colab": {
          "base_uri": "https://localhost:8080/"
        },
        "id": "JMmybsW8Tx_5",
        "outputId": "b4358c62-9e78-4a35-ae47-dd11e67105ab"
      },
      "execution_count": null,
      "outputs": [
        {
          "output_type": "stream",
          "name": "stdout",
          "text": [
            "Comprando TV + Mesa = R$ 1320.5\n",
            "Comprando TV + Liquidificador = R$ 959.5\n",
            "Comprando Liquidificador + Mesa = R$ 589.0\n",
            "\n",
            "Comprando os três produtos = R$ 1510\n"
          ]
        }
      ]
    },
    {
      "cell_type": "markdown",
      "source": [
        "#Aula 11 - Importano Bibliotecas ou Módulos"
      ],
      "metadata": {
        "id": "MtnLQ2seOduC"
      }
    },
    {
      "cell_type": "code",
      "source": [
        "# trigonometria não está dentro das operações básicas do Python\n",
        "\n",
        "x = 3.14159\n",
        "y = cos(x)\n",
        "\n",
        "print(y)\n",
        "\n",
        "#por isso, precisamos importar a biblioteca ou módulo necessário para o código"
      ],
      "metadata": {
        "id": "-prVwuzIOjYj"
      },
      "execution_count": null,
      "outputs": []
    },
    {
      "cell_type": "code",
      "source": [
        "import math\n",
        "\n",
        "x = math.pi\n",
        "y = math.cos(x)\n",
        "\n",
        "print(y)\n",
        "\n",
        "# sempre que for importar uma biblioteca usar o seguinte: nome_da_biblioteca.nome_da_função( argumento )\n",
        "\n"
      ],
      "metadata": {
        "colab": {
          "base_uri": "https://localhost:8080/"
        },
        "id": "5FTiqPslPbN9",
        "outputId": "7dcf508f-67ea-45ca-f6a8-d0dc3912e6e3"
      },
      "execution_count": null,
      "outputs": [
        {
          "output_type": "stream",
          "name": "stdout",
          "text": [
            "-1.0\n"
          ]
        }
      ]
    },
    {
      "cell_type": "markdown",
      "source": [
        "#Aula 12 - Outras Formas de Importar Bibliotecas"
      ],
      "metadata": {
        "id": "-6wIgZIHQ627"
      }
    },
    {
      "cell_type": "code",
      "source": [
        "#importar a função com um apelido, para ficar mais curta\n",
        "\n",
        "import math as mt\n",
        "\n",
        "x = mt.pi\n",
        "y = mt.sin(x)\n",
        "\n",
        "print(round(y,2))"
      ],
      "metadata": {
        "colab": {
          "base_uri": "https://localhost:8080/"
        },
        "id": "mFUJoUBkRAQL",
        "outputId": "c76ba5c3-68f3-4a0f-abdc-8ee47a2c84bb"
      },
      "execution_count": null,
      "outputs": [
        {
          "output_type": "stream",
          "name": "stdout",
          "text": [
            "0.0\n"
          ]
        }
      ]
    },
    {
      "cell_type": "code",
      "source": [
        "#importar apenas uma ou mais funções específicas\n",
        "\n",
        "from math import dist\n",
        "\n",
        "math.dist(x,r)\n",
        "\n",
        "math.cos() #essa função não vai funcionar, pois, importamos apenas uma função \"dist\" e não a de \"cos\""
      ],
      "metadata": {
        "id": "xl_QGtW_Rs66"
      },
      "execution_count": null,
      "outputs": []
    },
    {
      "cell_type": "markdown",
      "source": [
        "#Aula 13 - Outra Grande Biblioteca Matemática - NumPy"
      ],
      "metadata": {
        "id": "PJAZx-7HSL9v"
      }
    },
    {
      "cell_type": "code",
      "source": [
        "import numpy as np\n",
        "\n",
        "#possui mais funções do que apenas a biblioteca math"
      ],
      "metadata": {
        "id": "PfBCzTIPSVMU"
      },
      "execution_count": null,
      "outputs": []
    },
    {
      "cell_type": "markdown",
      "source": [
        "#Aula 14 - Condicionais"
      ],
      "metadata": {
        "id": "BYwdP85FXhIQ"
      }
    },
    {
      "cell_type": "code",
      "source": [
        "# Blocos de instruções\n",
        "\n",
        "if <condição>:\n",
        "  comando1\n",
        "  comando2"
      ],
      "metadata": {
        "id": "o03KAPVVXkvv"
      },
      "execution_count": null,
      "outputs": []
    },
    {
      "cell_type": "code",
      "source": [
        "#Aplicação prática\n",
        "\n",
        "n1 = int(input(\"Digite o n1:\"))\n",
        "n2 = int(input(\"Digite o n2:\"))\n",
        "\n",
        "# comparar 1\n",
        "\n",
        "if n1 > n2 : \n",
        "  print(f\"O valor {n1} é maior que {n2}\")\n",
        "\n",
        "if n1 < n2 :\n",
        "  print(f\"O valor {n1} é menor que {n2}\")"
      ],
      "metadata": {
        "colab": {
          "base_uri": "https://localhost:8080/"
        },
        "id": "flxtkULcXvyR",
        "outputId": "eef3ef3b-376a-4891-91a0-3abc0f76f90d"
      },
      "execution_count": null,
      "outputs": [
        {
          "output_type": "stream",
          "name": "stdout",
          "text": [
            "Digite o n1:7\n",
            "Digite o n2:8\n",
            "O valor 7 é menor que 8\n"
          ]
        }
      ]
    },
    {
      "cell_type": "code",
      "source": [
        "# comparar 2\n",
        "\n",
        "if n1 > n2 :\n",
        "  print(f\"O valor {n1} é maior que {n2}\")\n",
        "\n",
        "else: \n",
        "  print(f\"O valor {n1} é menor que {n2}\")\n",
        "\n",
        "# o código faz a mesma coisa, mas usando else, para abreviar a condição. "
      ],
      "metadata": {
        "colab": {
          "base_uri": "https://localhost:8080/"
        },
        "id": "AATUwtC4bCFQ",
        "outputId": "8605aa3e-48cd-41a9-8311-a2058bf27623"
      },
      "execution_count": null,
      "outputs": [
        {
          "output_type": "stream",
          "name": "stdout",
          "text": [
            "O valor 7 é menor que 8\n"
          ]
        }
      ]
    },
    {
      "cell_type": "markdown",
      "source": [
        "#Aula 15 - Exemplo de Condicional\n",
        "\n",
        "Escreva um programa que pergunte o valor do salário do funcionário e calcule um aumento com base no valor do salário. Para salários superiores a 1650,00  aplique um aumento de 12%. Para salários inferiores ou iguais a 1650,00, o aumento será de 18%. "
      ],
      "metadata": {
        "id": "-5NXNJhItFNr"
      }
    },
    {
      "cell_type": "code",
      "source": [
        "# Coleta a informação do salário\n",
        "\n",
        "salario = float(input(\"Informe seu salário em reais: \"))\n",
        "base = 2000.0\n",
        "\n",
        "if salario <= base : \n",
        "  novo_salario01 = salario * (1 + 12/100) \n",
        "  print(f\"O valor do novo salário será: R${novo_salario01}\")\n",
        "else: \n",
        "  novo_salario02 = salario * (1 + 18/100)\n",
        "  print(f\"O valor do novo salário será: R${novo_salario02}\")\n",
        "\n",
        "#também é possível escrever assim: \n",
        "\n",
        "if salario <= base : \n",
        "  salario = salario*1.12 \n",
        "  print(\"O valor do novo salário será: R$\", salario)\n",
        "else: \n",
        "  salario = salario*1.18\n",
        "  print(\"O valor do novo salário será: R$\", salario) "
      ],
      "metadata": {
        "colab": {
          "base_uri": "https://localhost:8080/"
        },
        "id": "F7vRDdIItnO3",
        "outputId": "56eedf1c-1fe2-4b00-d94e-23577245bb76"
      },
      "execution_count": null,
      "outputs": [
        {
          "output_type": "stream",
          "name": "stdout",
          "text": [
            "Informe seu salário em reais: 2000\n",
            "O valor do novo salário será: R$ 2240.0\n"
          ]
        }
      ]
    },
    {
      "cell_type": "markdown",
      "source": [
        "#Aula 16 - Condicional elif\n",
        "\n",
        "Numa faculdade o sistema de avaliação diz que: \n",
        "\n",
        "0 <= nota <= 4.0 : Aluno está reprovado\n",
        "\n",
        "4.0 < nota < 7.0 : Aluno está de recuperação\n",
        "\n",
        "nota >= 7;0 : Aluno aprovado\n",
        "\n",
        "Crie um algoritmo que leia a nota final do aluno e diga qual o status dele."
      ],
      "metadata": {
        "id": "7Af-a79Ry4mu"
      }
    },
    {
      "cell_type": "code",
      "source": [
        "# Exemplo de problemas usando só if\n",
        "\n",
        "nota = 2 \n",
        "if nota <= 4:\n",
        "  print(\"Reprovado\")\n",
        "if nota < 7:\n",
        "  print(\"Em recuperação\")\n",
        "else:\n",
        "  print(\"Aprovado\")\n",
        "\n",
        "# o código dá margem para aparecerem dois resultados"
      ],
      "metadata": {
        "colab": {
          "base_uri": "https://localhost:8080/"
        },
        "id": "AXecjM1py2Kd",
        "outputId": "0ba4b593-654f-446e-821d-ad591e8e38c2"
      },
      "execution_count": null,
      "outputs": [
        {
          "output_type": "stream",
          "name": "stdout",
          "text": [
            "Reprovado\n",
            "Em recuperação\n"
          ]
        }
      ]
    },
    {
      "cell_type": "code",
      "source": [
        "# exemplo certo, mas mais trabalhoso\n",
        "\n",
        "if nota <= 4:\n",
        "  print(\"Reprovado\")\n",
        "else: \n",
        "  if nota < 7:\n",
        "    print(\"Em recuperação\")\n",
        "  else:\n",
        "    print(\"Aprovado\")"
      ],
      "metadata": {
        "colab": {
          "base_uri": "https://localhost:8080/"
        },
        "id": "rPzHKG4YY46g",
        "outputId": "c7fd6aa2-0b55-418e-c8c0-8db78e8f8f26"
      },
      "execution_count": null,
      "outputs": [
        {
          "output_type": "stream",
          "name": "stdout",
          "text": [
            "Reprovado\n"
          ]
        }
      ]
    },
    {
      "cell_type": "code",
      "source": [
        "# exemplo com elif\n",
        "if nota <= 4: \n",
        "  print(\"Reprovado\")\n",
        "elif nota < 7:\n",
        "  print(\"Recuperação\")\n",
        "else:\n",
        "  print(\"Aprovado\")"
      ],
      "metadata": {
        "colab": {
          "base_uri": "https://localhost:8080/"
        },
        "id": "nDpdjqmPZ545",
        "outputId": "ea380697-3994-4034-f2ef-4162cdd7b3da"
      },
      "execution_count": null,
      "outputs": [
        {
          "output_type": "stream",
          "name": "stdout",
          "text": [
            "Reprovado\n"
          ]
        }
      ]
    },
    {
      "cell_type": "markdown",
      "source": [
        "#Exercício 9\n",
        "\n",
        "Elabore um algoritmo para calcular a conta de luz. Pergunte a quantidade kW/h consumida mensalmente, bem como o tipo de instalação, sendo C = casas, I = Indústrias e E = Empresas\n",
        "\n",
        "Casas - Consumo <= 600: 0,45 \n",
        "\n",
        "Consumo > 600: 0,65\n",
        "\n",
        "Indústrias - Consumo <= 1200: 0,75 \n",
        "\n",
        "Consumo > 1200: 0,95\n",
        "\n",
        "Empresas - Consumo <= 6000: 0,70 \n",
        "\n",
        "Consumo > 6000: 0,80"
      ],
      "metadata": {
        "id": "QRU1QRA-3Z74"
      }
    },
    {
      "cell_type": "code",
      "source": [
        "print(\"Informe o tipo de instalação, sendo Casas = C, Indústrias = I, Empresas = E: \")\n",
        "\n",
        "tipo = input(\"Qual tipo de instação? \")\n",
        "\n",
        "# para casas\n",
        "if tipo == \"C\" or tipo == \"c\":\n",
        "  tipo = \"Casa\"\n",
        "  kwh = float(input(\"Informe o consumo mensal: \"))\n",
        "  if kwh <= 600:\n",
        "    preco = kwh * 0.45\n",
        "  else:\n",
        "    preco = kwh * 0.65\n",
        "\n",
        "# para indústrias\n",
        "elif tipo == \"I\" or tipo == \"i\":\n",
        "  tipo = \"Indústria\"\n",
        "  kwh = float(input(\"Informe o consumo mensal: \"))\n",
        "  if kwh <= 1200:\n",
        "    preco = kwh * 0.75\n",
        "  else:\n",
        "    preco = kwh * 0.95\n",
        "\n",
        "# para empresas\n",
        "elif tipo == \"E\" or tipo == \"e\":\n",
        "  tipo = \"Empresa\"\n",
        "  kwh = float(input(\"Informe o consumo mensal: \"))\n",
        "  if kwh <= 6000:\n",
        "    preco = kwh * 0.70\n",
        "  else:\n",
        "    preco = kwh * 0.80\n",
        "\n",
        "else:\n",
        "  print(\"Digite um caracter válido!\")\n",
        "\n",
        "print(f\"O tipo de instalação {tipo} consome {kwh} kw/h por mês\")\n",
        "print(f\"Dessa forma, o valor da conta de luz é de R$ {preco}\")"
      ],
      "metadata": {
        "colab": {
          "base_uri": "https://localhost:8080/"
        },
        "id": "Pd9a5VVZ3ZZs",
        "outputId": "30672e10-e101-4d45-d42f-3f3257574e0b"
      },
      "execution_count": null,
      "outputs": [
        {
          "output_type": "stream",
          "name": "stdout",
          "text": [
            "Informe o tipo de instalação, sendo Casas = C, Indústrias = I, Empresas = E: \n",
            "Qual tipo de instação? I\n",
            "Informe o consumo mensal: 7000\n",
            "O tipo de instalação Indústria consome 7000.0 kw/h por mês\n",
            "Dessa forma, o valor da conta de luz é de R$ 6650.0\n"
          ]
        }
      ]
    },
    {
      "cell_type": "markdown",
      "source": [
        "#Aula 17 - Repetições: while\n",
        "\n",
        "while condição (verdadeira):\n",
        "  Comando 1\n",
        "  Comando 2, etc.\n",
        "\n",
        " Ele continua executando comandos até a condição inicial deixar de ser verdadeira."
      ],
      "metadata": {
        "id": "36v63QFA_RJr"
      }
    },
    {
      "cell_type": "code",
      "source": [
        "# imprimir os 5 números primeiros\n",
        "\n",
        "n = 1\n",
        "while n <= 5:\n",
        "  print(n)\n",
        "  n = n + 1\n",
        " "
      ],
      "metadata": {
        "colab": {
          "base_uri": "https://localhost:8080/"
        },
        "id": "QNyOTL8T_WRk",
        "outputId": "f3f1799b-504c-47e9-91f6-68ea088ba945"
      },
      "execution_count": null,
      "outputs": [
        {
          "output_type": "stream",
          "name": "stdout",
          "text": [
            "1\n",
            "2\n",
            "3\n",
            "4\n",
            "5\n"
          ]
        }
      ]
    },
    {
      "cell_type": "code",
      "source": [
        " n = 8 \n",
        "while n >= 0:\n",
        "  print(n)\n",
        "  n = n - 1"
      ],
      "metadata": {
        "id": "Zpx5Hy8KBLtc"
      },
      "execution_count": null,
      "outputs": []
    },
    {
      "cell_type": "markdown",
      "source": [
        "Exemplos de while"
      ],
      "metadata": {
        "id": "9yXPP2V8D-0z"
      }
    },
    {
      "cell_type": "code",
      "source": [
        "# Imprimir o quadrado dos 10 primeiros números inteiros\n",
        "\n",
        "n = 1\n",
        "while n <= 10:\n",
        "  print(f\"O quadrado de {n} é:\", n ** 2)\n",
        "  #n = n + 1\n",
        "  n += 1"
      ],
      "metadata": {
        "colab": {
          "base_uri": "https://localhost:8080/"
        },
        "id": "RJlFeejaB1GA",
        "outputId": "5ece9f9c-ec91-4bd0-8f22-d1d0264bdb14"
      },
      "execution_count": null,
      "outputs": [
        {
          "output_type": "stream",
          "name": "stdout",
          "text": [
            "O quadrado de 1 é: 1\n",
            "O quadrado de 2 é: 4\n",
            "O quadrado de 3 é: 9\n",
            "O quadrado de 4 é: 16\n",
            "O quadrado de 5 é: 25\n",
            "O quadrado de 6 é: 36\n",
            "O quadrado de 7 é: 49\n",
            "O quadrado de 8 é: 64\n",
            "O quadrado de 9 é: 81\n",
            "O quadrado de 10 é: 100\n"
          ]
        }
      ]
    },
    {
      "cell_type": "code",
      "source": [
        "# Contagem regressiva para o lançamento de um foguete. \n",
        "\n",
        "x = 10 \n",
        "while x >= 1:\n",
        "  print(\"Contagem:\",x)\n",
        "  x -= 1\n",
        "print(\"Liguem os motores!\")"
      ],
      "metadata": {
        "colab": {
          "base_uri": "https://localhost:8080/"
        },
        "id": "XWFhB44VDIbt",
        "outputId": "ff9db0d3-6565-4ee5-9344-72827068dafc"
      },
      "execution_count": null,
      "outputs": [
        {
          "output_type": "stream",
          "name": "stdout",
          "text": [
            "Contagem: 10\n",
            "Contagem: 9\n",
            "Contagem: 8\n",
            "Contagem: 7\n",
            "Contagem: 6\n",
            "Contagem: 5\n",
            "Contagem: 4\n",
            "Contagem: 3\n",
            "Contagem: 2\n",
            "Contagem: 1\n",
            "Liguem os motores!\n"
          ]
        }
      ]
    },
    {
      "cell_type": "code",
      "source": [
        "# Calcule a média aritmética simples de N números.\n",
        "n = int(input(\"Digite um número maior que zero: \"))\n",
        "soma = 0\n",
        "m = n\n",
        "\n",
        "while n > 0:\n",
        "  x = int(input(\"Digite um novo número: \"))\n",
        "  soma += x\n",
        "  n -= 1\n",
        "\n",
        "media = soma / m\n",
        "print(f\"A média é igual a {media}.\")"
      ],
      "metadata": {
        "colab": {
          "base_uri": "https://localhost:8080/"
        },
        "id": "i0lUt6vWEBGm",
        "outputId": "5cffe2e1-2db1-431e-9a77-4d03cb5175bb"
      },
      "execution_count": null,
      "outputs": [
        {
          "output_type": "stream",
          "name": "stdout",
          "text": [
            "Digite um número maior que zero: 3\n",
            "Digite um novo número: 10\n",
            "Digite um novo número: 20\n",
            "Digite um novo número: 30\n",
            "A média é igual a 20.0.\n"
          ]
        }
      ]
    },
    {
      "cell_type": "markdown",
      "source": [
        "#Aula 18 - while usando if\n",
        "\n",
        "Num intervalo entre a e b, diga quantos números são pares e quantos são ímpares. "
      ],
      "metadata": {
        "id": "nQ32AkAqHcCo"
      }
    },
    {
      "cell_type": "code",
      "source": [
        "a = 374\n",
        "b = 597\n",
        "par = 0 \n",
        "impar = 0\n",
        "\n",
        "while a <= b:\n",
        "  if a % 2 == 0:\n",
        "    par = par + 1\n",
        "\n",
        "  else:\n",
        "    impar += 1\n",
        "  a = a + 1\n",
        "\n",
        "print(\"A quantidade de números pares:\", par)\n",
        "print()\n",
        "print(\"A quantidade de números ípares:\", impar)"
      ],
      "metadata": {
        "colab": {
          "base_uri": "https://localhost:8080/"
        },
        "id": "KnJ9pIdCHbh_",
        "outputId": "4569ed03-ce6b-473e-ee9c-372bde7d8e7f"
      },
      "execution_count": null,
      "outputs": [
        {
          "output_type": "stream",
          "name": "stdout",
          "text": [
            "A quantidade de números pares: 112\n",
            "\n",
            "A quantidade de números ípares: 112\n"
          ]
        }
      ]
    },
    {
      "cell_type": "markdown",
      "source": [
        "#Aula 19 - Repetições encaixadas com while\n",
        "\n",
        "Imprimir a tabuada de 1 a 10"
      ],
      "metadata": {
        "id": "-feBsITKphQ1"
      }
    },
    {
      "cell_type": "code",
      "source": [
        "tab = 1\n",
        "while tab <= 10:\n",
        "  num = 1\n",
        "    print(f\"*** tabuada do {tab} ***\")\n",
        "  print()\n",
        "  while num <=10:\n",
        "    print(f\"{tab} x {num} = {tab*num}\")\n",
        "    num += 1\n",
        "  tab += 1"
      ],
      "metadata": {
        "colab": {
          "base_uri": "https://localhost:8080/"
        },
        "id": "K5wnRwk0p56G",
        "outputId": "32e9edff-89fb-4a57-9218-057b99405e56"
      },
      "execution_count": null,
      "outputs": [
        {
          "output_type": "stream",
          "name": "stdout",
          "text": [
            "\n",
            "*** tabuada do 1 ***\n",
            "\n",
            "1 x 1 = 1\n",
            "1 x 2 = 2\n",
            "1 x 3 = 3\n",
            "1 x 4 = 4\n",
            "1 x 5 = 5\n",
            "1 x 6 = 6\n",
            "1 x 7 = 7\n",
            "1 x 8 = 8\n",
            "1 x 9 = 9\n",
            "1 x 10 = 10\n",
            "\n",
            "*** tabuada do 2 ***\n",
            "\n",
            "2 x 1 = 2\n",
            "2 x 2 = 4\n",
            "2 x 3 = 6\n",
            "2 x 4 = 8\n",
            "2 x 5 = 10\n",
            "2 x 6 = 12\n",
            "2 x 7 = 14\n",
            "2 x 8 = 16\n",
            "2 x 9 = 18\n",
            "2 x 10 = 20\n",
            "\n",
            "*** tabuada do 3 ***\n",
            "\n",
            "3 x 1 = 3\n",
            "3 x 2 = 6\n",
            "3 x 3 = 9\n",
            "3 x 4 = 12\n",
            "3 x 5 = 15\n",
            "3 x 6 = 18\n",
            "3 x 7 = 21\n",
            "3 x 8 = 24\n",
            "3 x 9 = 27\n",
            "3 x 10 = 30\n",
            "\n",
            "*** tabuada do 4 ***\n",
            "\n",
            "4 x 1 = 4\n",
            "4 x 2 = 8\n",
            "4 x 3 = 12\n",
            "4 x 4 = 16\n",
            "4 x 5 = 20\n",
            "4 x 6 = 24\n",
            "4 x 7 = 28\n",
            "4 x 8 = 32\n",
            "4 x 9 = 36\n",
            "4 x 10 = 40\n",
            "\n",
            "*** tabuada do 5 ***\n",
            "\n",
            "5 x 1 = 5\n",
            "5 x 2 = 10\n",
            "5 x 3 = 15\n",
            "5 x 4 = 20\n",
            "5 x 5 = 25\n",
            "5 x 6 = 30\n",
            "5 x 7 = 35\n",
            "5 x 8 = 40\n",
            "5 x 9 = 45\n",
            "5 x 10 = 50\n",
            "\n",
            "*** tabuada do 6 ***\n",
            "\n",
            "6 x 1 = 6\n",
            "6 x 2 = 12\n",
            "6 x 3 = 18\n",
            "6 x 4 = 24\n",
            "6 x 5 = 30\n",
            "6 x 6 = 36\n",
            "6 x 7 = 42\n",
            "6 x 8 = 48\n",
            "6 x 9 = 54\n",
            "6 x 10 = 60\n",
            "\n",
            "*** tabuada do 7 ***\n",
            "\n",
            "7 x 1 = 7\n",
            "7 x 2 = 14\n",
            "7 x 3 = 21\n",
            "7 x 4 = 28\n",
            "7 x 5 = 35\n",
            "7 x 6 = 42\n",
            "7 x 7 = 49\n",
            "7 x 8 = 56\n",
            "7 x 9 = 63\n",
            "7 x 10 = 70\n",
            "\n",
            "*** tabuada do 8 ***\n",
            "\n",
            "8 x 1 = 8\n",
            "8 x 2 = 16\n",
            "8 x 3 = 24\n",
            "8 x 4 = 32\n",
            "8 x 5 = 40\n",
            "8 x 6 = 48\n",
            "8 x 7 = 56\n",
            "8 x 8 = 64\n",
            "8 x 9 = 72\n",
            "8 x 10 = 80\n",
            "\n",
            "*** tabuada do 9 ***\n",
            "\n",
            "9 x 1 = 9\n",
            "9 x 2 = 18\n",
            "9 x 3 = 27\n",
            "9 x 4 = 36\n",
            "9 x 5 = 45\n",
            "9 x 6 = 54\n",
            "9 x 7 = 63\n",
            "9 x 8 = 72\n",
            "9 x 9 = 81\n",
            "9 x 10 = 90\n",
            "\n",
            "*** tabuada do 10 ***\n",
            "\n",
            "10 x 1 = 10\n",
            "10 x 2 = 20\n",
            "10 x 3 = 30\n",
            "10 x 4 = 40\n",
            "10 x 5 = 50\n",
            "10 x 6 = 60\n",
            "10 x 7 = 70\n",
            "10 x 8 = 80\n",
            "10 x 9 = 90\n",
            "10 x 10 = 100\n"
          ]
        }
      ]
    },
    {
      "cell_type": "markdown",
      "source": [
        "#Aula 20 - Repetição com for\n",
        "\n",
        "for i in range (arg1, arg2, arg3)\n",
        "\n",
        "comando_1\n",
        "\n",
        "comando_02\n",
        "\n",
        "...\n",
        "\n",
        "comando_n"
      ],
      "metadata": {
        "id": "XSTEPfWkrYo4"
      }
    },
    {
      "cell_type": "markdown",
      "source": [
        "Função range()\n",
        "\n",
        "rande(n): gera números inteiros de 0 até n-1.\n",
        "\n",
        "range(a,n): gera números inteiros iniciando em a até n-1\n",
        "\n",
        "range(a,n,b): gera números inteiros iniciando em a até n-1 com passo base\n"
      ],
      "metadata": {
        "id": "jlO7Zstlr_4M"
      }
    },
    {
      "cell_type": "code",
      "source": [
        "#range(n)\n",
        "for variavel in range(10): #0, 1, 2, 3,...,9.\n",
        "  print(variavel, end=\" \")"
      ],
      "metadata": {
        "colab": {
          "base_uri": "https://localhost:8080/"
        },
        "id": "0pWAk6Vqrcuu",
        "outputId": "463e6953-12ec-4884-e2b1-e9bcc5ae55a9"
      },
      "execution_count": null,
      "outputs": [
        {
          "output_type": "stream",
          "name": "stdout",
          "text": [
            "0 1 2 3 4 5 6 7 8 9 "
          ]
        }
      ]
    },
    {
      "cell_type": "code",
      "source": [
        "#range(a,n) a = inicio; n-1 = fim\n",
        "for variavel in range(2,10): \n",
        "  print(variavel, end=\" \")"
      ],
      "metadata": {
        "colab": {
          "base_uri": "https://localhost:8080/"
        },
        "id": "SaS9cg1ttSeF",
        "outputId": "a49f2b2f-900e-4208-84dd-16a4ef7332bb"
      },
      "execution_count": null,
      "outputs": [
        {
          "output_type": "stream",
          "name": "stdout",
          "text": [
            "2 3 4 5 6 7 8 9 "
          ]
        }
      ]
    },
    {
      "cell_type": "code",
      "source": [],
      "metadata": {
        "id": "fA-ENBpcty5z"
      },
      "execution_count": null,
      "outputs": []
    },
    {
      "cell_type": "code",
      "source": [
        "#range(a,n,b) a = inicio; n-1 = fim; b = passo (começa no a e soma com o b)\n",
        "for variavel in range(2,20,2): \n",
        "  print(variavel, end=\" \")"
      ],
      "metadata": {
        "colab": {
          "base_uri": "https://localhost:8080/"
        },
        "outputId": "6fe8ef35-e336-4cab-a134-a88bc4bb2511",
        "id": "GJ7W8rAht1Kx"
      },
      "execution_count": null,
      "outputs": [
        {
          "output_type": "stream",
          "name": "stdout",
          "text": [
            "2 4 6 8 10 12 14 16 18 "
          ]
        }
      ]
    },
    {
      "cell_type": "markdown",
      "source": [
        "#Exemplo de repetição com for"
      ],
      "metadata": {
        "id": "-yhCDne-uid9"
      }
    },
    {
      "cell_type": "code",
      "source": [
        "# Calcular a média de 3 alunos e dizer se estão aprovados ou reprovados\n",
        "\n",
        "for variavel in range(3):\n",
        "  nome = input(\"Digite o nome do aluno: \")\n",
        "  p1 = float(input(\"Digite a nota da p1: \"))\n",
        "  p2 = float(input(\"Digite a nota da p2: \"))\n",
        "  media = (p1 + p2)/2\n",
        "\n",
        "  if media >= 6:\n",
        "    condicao = \"Aprovado\"\n",
        "  else:\n",
        "    condicao = \"Reprovado\"\n",
        "  print(f\"A média final de {nome} é {media}, portanto, está {condicao}.j\")"
      ],
      "metadata": {
        "id": "LRhinP2_tiC6"
      },
      "execution_count": null,
      "outputs": []
    },
    {
      "cell_type": "markdown",
      "source": [
        "#Exercício - Tabuada de um número digitado pelo usuário"
      ],
      "metadata": {
        "id": "LEyVPw1XwhFP"
      }
    },
    {
      "cell_type": "code",
      "source": [
        "n = int(input(\"Digite um número n: \"))\n",
        "print(f\"Tabuada de {n}\")\n",
        "for i in range(1,11):\n",
        "  print(f\"{n} x {i} = {n*i}\")"
      ],
      "metadata": {
        "colab": {
          "base_uri": "https://localhost:8080/"
        },
        "id": "KBrGOeeiwo8w",
        "outputId": "da76a3eb-6a22-42fc-c330-5246652f1066"
      },
      "execution_count": null,
      "outputs": [
        {
          "output_type": "stream",
          "name": "stdout",
          "text": [
            "Digite um número n: 3\n",
            "Tabuada de 3\n",
            "3 x 1 = 3\n",
            "3 x 2 = 6\n",
            "3 x 3 = 9\n",
            "3 x 4 = 12\n",
            "3 x 5 = 15\n",
            "3 x 6 = 18\n",
            "3 x 7 = 21\n",
            "3 x 8 = 24\n",
            "3 x 9 = 27\n",
            "3 x 10 = 30\n"
          ]
        }
      ]
    }
  ]
}